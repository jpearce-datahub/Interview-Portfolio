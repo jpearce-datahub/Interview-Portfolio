{
 "cells": [
  {
   "cell_type": "markdown",
   "id": "46004eee",
   "metadata": {},
   "source": [
    "## Import libraries"
   ]
  },
  {
   "cell_type": "code",
   "execution_count": 7,
   "id": "8a148d09",
   "metadata": {},
   "outputs": [],
   "source": [
    "import psycopg2\n",
    "import pandas as pd"
   ]
  },
  {
   "cell_type": "markdown",
   "id": "00f7a6a2",
   "metadata": {},
   "source": [
    "## Create a connection to the database"
   ]
  },
  {
   "cell_type": "code",
   "execution_count": 8,
   "id": "c2191466",
   "metadata": {},
   "outputs": [],
   "source": [
    "try: \n",
    "    conn = psycopg2.connect(\"host=127.0.0.1 dbname=postgres user=postgres password=****\")\n",
    "except psycopg2.Error as e: \n",
    "    print(\"Error: Could not make connection to the Postgres database\")\n",
    "    print(e)"
   ]
  },
  {
   "cell_type": "markdown",
   "id": "1055bff6",
   "metadata": {},
   "source": [
    "## Use the connection to get a cursor that can be used to execute queries."
   ]
  },
  {
   "cell_type": "code",
   "execution_count": 9,
   "id": "2a893200",
   "metadata": {},
   "outputs": [],
   "source": [
    "try: \n",
    "    cur = conn.cursor()\n",
    "except psycopg2.Error as e: \n",
    "    print(\"Error: Could not get curser to the Database\")\n",
    "    print(e)"
   ]
  },
  {
   "cell_type": "markdown",
   "id": "d779c966",
   "metadata": {},
   "source": [
    "## Set automatic commit to be true so that each action is committed without having to call conn.commit() after each command."
   ]
  },
  {
   "cell_type": "code",
   "execution_count": 10,
   "id": "13305c08",
   "metadata": {},
   "outputs": [],
   "source": [
    "conn.set_session(autocommit=True)"
   ]
  },
  {
   "cell_type": "markdown",
   "id": "c8e46fa3",
   "metadata": {},
   "source": [
    "## Create a database to do the work in"
   ]
  },
  {
   "cell_type": "code",
   "execution_count": 13,
   "id": "7063598d",
   "metadata": {},
   "outputs": [],
   "source": [
    "try: \n",
    "    cur.execute(\"create database projects\")\n",
    "except psycopg2.Error as e:\n",
    "    print(e)"
   ]
  },
  {
   "cell_type": "markdown",
   "id": "7fb0a512",
   "metadata": {},
   "source": [
    "## Add the database name in the connect statement."
   ]
  },
  {
   "cell_type": "code",
   "execution_count": 11,
   "id": "9fd39615",
   "metadata": {},
   "outputs": [],
   "source": [
    "try: \n",
    "    conn.close()\n",
    "except psycopg2.Error as e:\n",
    "    print(e)\n",
    "    \n",
    "try: \n",
    "    conn = psycopg2.connect(\"host=127.0.0.1 dbname=projects user=postgres password=****\")\n",
    "except psycopg2.Error as e: \n",
    "    print(\"Error: Could not make connection to the Postgres database\")\n",
    "    print(e)\n",
    "    \n",
    "try: \n",
    "    cur = conn.cursor()\n",
    "except psycopg2.Error as e: \n",
    "    print(\"Error: Could not get curser to the Database\")\n",
    "    print(e)\n",
    "\n",
    "conn.set_session(autocommit=True)"
   ]
  },
  {
   "cell_type": "markdown",
   "id": "d0721288",
   "metadata": {},
   "source": [
    "## View Structure of Dataset\n"
   ]
  },
  {
   "cell_type": "code",
   "execution_count": 13,
   "id": "97a7bc3a",
   "metadata": {},
   "outputs": [
    {
     "data": {
      "text/html": [
       "<div>\n",
       "<style scoped>\n",
       "    .dataframe tbody tr th:only-of-type {\n",
       "        vertical-align: middle;\n",
       "    }\n",
       "\n",
       "    .dataframe tbody tr th {\n",
       "        vertical-align: top;\n",
       "    }\n",
       "\n",
       "    .dataframe thead th {\n",
       "        text-align: right;\n",
       "    }\n",
       "</style>\n",
       "<table border=\"1\" class=\"dataframe\">\n",
       "  <thead>\n",
       "    <tr style=\"text-align: right;\">\n",
       "      <th></th>\n",
       "      <th>work_year</th>\n",
       "      <th>experience_level</th>\n",
       "      <th>employment_type</th>\n",
       "      <th>job_title</th>\n",
       "      <th>salary</th>\n",
       "      <th>salary_currency</th>\n",
       "      <th>salary_in_usd</th>\n",
       "      <th>employee_residence</th>\n",
       "      <th>remote_ratio</th>\n",
       "      <th>company_location</th>\n",
       "      <th>company_size</th>\n",
       "    </tr>\n",
       "  </thead>\n",
       "  <tbody>\n",
       "    <tr>\n",
       "      <th>0</th>\n",
       "      <td>2023</td>\n",
       "      <td>EX</td>\n",
       "      <td>FT</td>\n",
       "      <td>Information Security Officer</td>\n",
       "      <td>160000</td>\n",
       "      <td>USD</td>\n",
       "      <td>160000</td>\n",
       "      <td>US</td>\n",
       "      <td>100</td>\n",
       "      <td>US</td>\n",
       "      <td>M</td>\n",
       "    </tr>\n",
       "    <tr>\n",
       "      <th>1</th>\n",
       "      <td>2023</td>\n",
       "      <td>EX</td>\n",
       "      <td>FT</td>\n",
       "      <td>Information Security Officer</td>\n",
       "      <td>100000</td>\n",
       "      <td>USD</td>\n",
       "      <td>100000</td>\n",
       "      <td>US</td>\n",
       "      <td>100</td>\n",
       "      <td>US</td>\n",
       "      <td>M</td>\n",
       "    </tr>\n",
       "    <tr>\n",
       "      <th>2</th>\n",
       "      <td>2023</td>\n",
       "      <td>SE</td>\n",
       "      <td>FT</td>\n",
       "      <td>Security Engineer</td>\n",
       "      <td>247250</td>\n",
       "      <td>USD</td>\n",
       "      <td>247250</td>\n",
       "      <td>US</td>\n",
       "      <td>0</td>\n",
       "      <td>US</td>\n",
       "      <td>M</td>\n",
       "    </tr>\n",
       "    <tr>\n",
       "      <th>3</th>\n",
       "      <td>2023</td>\n",
       "      <td>SE</td>\n",
       "      <td>FT</td>\n",
       "      <td>Security Engineer</td>\n",
       "      <td>160000</td>\n",
       "      <td>USD</td>\n",
       "      <td>160000</td>\n",
       "      <td>US</td>\n",
       "      <td>0</td>\n",
       "      <td>US</td>\n",
       "      <td>M</td>\n",
       "    </tr>\n",
       "    <tr>\n",
       "      <th>4</th>\n",
       "      <td>2023</td>\n",
       "      <td>SE</td>\n",
       "      <td>FT</td>\n",
       "      <td>Security Engineer</td>\n",
       "      <td>224250</td>\n",
       "      <td>USD</td>\n",
       "      <td>224250</td>\n",
       "      <td>US</td>\n",
       "      <td>0</td>\n",
       "      <td>US</td>\n",
       "      <td>M</td>\n",
       "    </tr>\n",
       "  </tbody>\n",
       "</table>\n",
       "</div>"
      ],
      "text/plain": [
       "   work_year experience_level employment_type                     job_title  \\\n",
       "0       2023               EX              FT  Information Security Officer   \n",
       "1       2023               EX              FT  Information Security Officer   \n",
       "2       2023               SE              FT             Security Engineer   \n",
       "3       2023               SE              FT             Security Engineer   \n",
       "4       2023               SE              FT             Security Engineer   \n",
       "\n",
       "   salary salary_currency  salary_in_usd employee_residence  remote_ratio  \\\n",
       "0  160000             USD         160000                 US           100   \n",
       "1  100000             USD         100000                 US           100   \n",
       "2  247250             USD         247250                 US             0   \n",
       "3  160000             USD         160000                 US             0   \n",
       "4  224250             USD         224250                 US             0   \n",
       "\n",
       "  company_location company_size  \n",
       "0               US            M  \n",
       "1               US            M  \n",
       "2               US            M  \n",
       "3               US            M  \n",
       "4               US            M  "
      ]
     },
     "execution_count": 13,
     "metadata": {},
     "output_type": "execute_result"
    }
   ],
   "source": [
    "# Read the CSV file\n",
    "cybersecurity_salaries = pd.read_csv(\"/tmp/salaries.csv\")\n",
    "\n",
    "# View the first 5 rows\n",
    "cybersecurity_salaries.head()"
   ]
  },
  {
   "cell_type": "code",
   "execution_count": null,
   "id": "2fb59669",
   "metadata": {},
   "outputs": [],
   "source": [
    "#get column names\n",
    "cybersecurity_salaries.columns"
   ]
  },
  {
   "cell_type": "code",
   "execution_count": 14,
   "id": "33496f45",
   "metadata": {},
   "outputs": [
    {
     "data": {
      "text/html": [
       "<div>\n",
       "<style scoped>\n",
       "    .dataframe tbody tr th:only-of-type {\n",
       "        vertical-align: middle;\n",
       "    }\n",
       "\n",
       "    .dataframe tbody tr th {\n",
       "        vertical-align: top;\n",
       "    }\n",
       "\n",
       "    .dataframe thead th {\n",
       "        text-align: right;\n",
       "    }\n",
       "</style>\n",
       "<table border=\"1\" class=\"dataframe\">\n",
       "  <thead>\n",
       "    <tr style=\"text-align: right;\">\n",
       "      <th></th>\n",
       "      <th>job_title</th>\n",
       "      <th>experience_level</th>\n",
       "      <th>salary</th>\n",
       "      <th>company_location</th>\n",
       "    </tr>\n",
       "  </thead>\n",
       "  <tbody>\n",
       "    <tr>\n",
       "      <th>0</th>\n",
       "      <td>Information Security Officer</td>\n",
       "      <td>EX</td>\n",
       "      <td>160000</td>\n",
       "      <td>US</td>\n",
       "    </tr>\n",
       "    <tr>\n",
       "      <th>1</th>\n",
       "      <td>Information Security Officer</td>\n",
       "      <td>EX</td>\n",
       "      <td>100000</td>\n",
       "      <td>US</td>\n",
       "    </tr>\n",
       "    <tr>\n",
       "      <th>2</th>\n",
       "      <td>Security Engineer</td>\n",
       "      <td>SE</td>\n",
       "      <td>247250</td>\n",
       "      <td>US</td>\n",
       "    </tr>\n",
       "    <tr>\n",
       "      <th>3</th>\n",
       "      <td>Security Engineer</td>\n",
       "      <td>SE</td>\n",
       "      <td>160000</td>\n",
       "      <td>US</td>\n",
       "    </tr>\n",
       "    <tr>\n",
       "      <th>4</th>\n",
       "      <td>Security Engineer</td>\n",
       "      <td>SE</td>\n",
       "      <td>224250</td>\n",
       "      <td>US</td>\n",
       "    </tr>\n",
       "  </tbody>\n",
       "</table>\n",
       "</div>"
      ],
      "text/plain": [
       "                      job_title experience_level  salary company_location\n",
       "0  Information Security Officer               EX  160000               US\n",
       "1  Information Security Officer               EX  100000               US\n",
       "2             Security Engineer               SE  247250               US\n",
       "3             Security Engineer               SE  160000               US\n",
       "4             Security Engineer               SE  224250               US"
      ]
     },
     "execution_count": 14,
     "metadata": {},
     "output_type": "execute_result"
    }
   ],
   "source": [
    "#test cleaning\n",
    "cybersecurity_salaries_clean = cybersecurity_salaries[['job_title', 'experience_level', 'salary', 'company_location']]\n",
    "\n",
    "cybersecurity_salaries_clean.head()"
   ]
  },
  {
   "cell_type": "markdown",
   "id": "530a7702",
   "metadata": {},
   "source": [
    "## Create Table\n"
   ]
  },
  {
   "cell_type": "code",
   "execution_count": 15,
   "id": "25549b7f",
   "metadata": {},
   "outputs": [],
   "source": [
    "try: \n",
    "    cur.execute(\"CREATE TABLE IF NOT EXISTS cybersecurity_salaries (work_year int, experience_level varchar,\\\n",
    "    employment_type varchar, job_title varchar, salary int, salary_currency varchar, salary_in_usd int,\\\n",
    "    employee_residence varchar, remote_ratio int, company_location varchar, company_size varchar);\")\n",
    "except psycopg2.Error as e: \n",
    "    print(\"Error: Issue creating table\")\n",
    "    print (e)\n",
    "    "
   ]
  },
  {
   "cell_type": "markdown",
   "id": "807ee3b5",
   "metadata": {},
   "source": [
    "### Insert the data into the table"
   ]
  },
  {
   "cell_type": "code",
   "execution_count": 16,
   "id": "b06a6be8",
   "metadata": {},
   "outputs": [],
   "source": [
    "try: \n",
    "    cur.execute('''COPY cybersecurity_salaries(work_year, experience_level,\\\n",
    "    employment_type, job_title, salary, salary_currency, salary_in_usd,\\\n",
    "    employee_residence, remote_ratio, company_location, company_size) \n",
    "    FROM '/tmp/salaries.csv' \n",
    "    DELIMITER ',' \n",
    "    CSV HEADER;''')\n",
    "  \n",
    "\n",
    "except psycopg2.Error as e: \n",
    "    print(\"Error: Inserting Rows\")\n",
    "    print (e)\n",
    "    "
   ]
  },
  {
   "cell_type": "markdown",
   "id": "02dc4968",
   "metadata": {},
   "source": [
    "## insert using for loop (not used just for practice)\n",
    "\n",
    "cybersecurity_salaries_insert = (\"\"\"INSERT INTO cybersecurity_salaries(\n",
    "work_year, \n",
    "experience_level,\n",
    "employment_type, \n",
    "job_title, \n",
    "salary, \n",
    "salary_currency, \n",
    "salary_in_usd,\n",
    "employee_residence, \n",
    "remote_ratio, \n",
    "company_location, \n",
    "company_size)\n",
    "VALUES (%s,%s,%s,%s,%s,%s,%s,%s,%s,%s,%s,)\n",
    "\"\"\")\n",
    "\n",
    "\n",
    "for i, row in cybersecurity_salaries.iterrows():\n",
    "        cur.execute(cybersecurity_salaries_insert, list(row))"
   ]
  },
  {
   "cell_type": "markdown",
   "id": "830f62a8",
   "metadata": {},
   "source": [
    "## Validate data was inserted into the table"
   ]
  },
  {
   "cell_type": "code",
   "execution_count": 17,
   "id": "39875456",
   "metadata": {},
   "outputs": [
    {
     "name": "stdout",
     "output_type": "stream",
     "text": [
      "(2023, 'EX', 'FT', 'Information Security Officer', 160000, 'USD', 160000, 'US', 100, 'US', 'M')\n",
      "(2023, 'EX', 'FT', 'Information Security Officer', 100000, 'USD', 100000, 'US', 100, 'US', 'M')\n",
      "(2023, 'SE', 'FT', 'Security Engineer', 247250, 'USD', 247250, 'US', 0, 'US', 'M')\n",
      "(2023, 'SE', 'FT', 'Security Engineer', 160000, 'USD', 160000, 'US', 0, 'US', 'M')\n",
      "(2023, 'SE', 'FT', 'Security Engineer', 224250, 'USD', 224250, 'US', 0, 'US', 'M')\n",
      "(2023, 'SE', 'FT', 'Security Engineer', 116000, 'USD', 116000, 'US', 0, 'US', 'M')\n",
      "(2023, 'SE', 'FT', 'Security Architect', 146000, 'USD', 146000, 'US', 100, 'US', 'M')\n",
      "(2023, 'SE', 'FT', 'Security Architect', 78900, 'USD', 78900, 'US', 100, 'US', 'M')\n",
      "(2023, 'SE', 'FT', 'Security Engineer', 384348, 'USD', 384348, 'US', 0, 'US', 'M')\n",
      "(2023, 'SE', 'FT', 'Security Engineer', 255652, 'USD', 255652, 'US', 0, 'US', 'M')\n"
     ]
    }
   ],
   "source": [
    "try: \n",
    "    cur.execute(\"SELECT * FROM cybersecurity_salaries limit 10;\")\n",
    "except psycopg2.Error as e: \n",
    "    print(\"Error: select *\")\n",
    "    print (e)\n",
    "\n",
    "row = cur.fetchone()\n",
    "while row:\n",
    "    print(row)\n",
    "    row = cur.fetchone()"
   ]
  },
  {
   "cell_type": "markdown",
   "id": "7dc5483a",
   "metadata": {},
   "source": [
    "##  close cursor and connection"
   ]
  },
  {
   "cell_type": "code",
   "execution_count": 18,
   "id": "a95e6d61",
   "metadata": {},
   "outputs": [],
   "source": [
    "cur.close()\n",
    "conn.close()"
   ]
  },
  {
   "cell_type": "code",
   "execution_count": null,
   "id": "25622897",
   "metadata": {},
   "outputs": [],
   "source": []
  }
 ],
 "metadata": {
  "kernelspec": {
   "display_name": "Python 3 (ipykernel)",
   "language": "python",
   "name": "python3"
  },
  "language_info": {
   "codemirror_mode": {
    "name": "ipython",
    "version": 3
   },
   "file_extension": ".py",
   "mimetype": "text/x-python",
   "name": "python",
   "nbconvert_exporter": "python",
   "pygments_lexer": "ipython3",
   "version": "3.9.7"
  }
 },
 "nbformat": 4,
 "nbformat_minor": 5
}
